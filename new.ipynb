{
 "cells": [
  {
   "cell_type": "code",
   "execution_count": 33,
   "id": "37ad9bd7",
   "metadata": {},
   "outputs": [],
   "source": [
    "import yfinance as yf\n",
    "import pandas as pd\n",
    "import matplotlib.pyplot as plt"
   ]
  },
  {
   "cell_type": "code",
   "execution_count": 34,
   "id": "e8cde878",
   "metadata": {},
   "outputs": [],
   "source": [
    "ticker ='AAPL'"
   ]
  },
  {
   "cell_type": "code",
   "execution_count": 35,
   "id": "e866a34f",
   "metadata": {},
   "outputs": [],
   "source": [
    "start_date = '2023-01-01'\n",
    "end_date = '2023-12-31'"
   ]
  },
  {
   "cell_type": "code",
   "execution_count": 36,
   "id": "52ae4701",
   "metadata": {},
   "outputs": [
    {
     "name": "stderr",
     "output_type": "stream",
     "text": [
      "C:\\Users\\vikas\\AppData\\Local\\Temp\\ipykernel_18884\\890646552.py:1: FutureWarning: YF.download() has changed argument auto_adjust default to True\n",
      "  stock_data = yf.download(ticker, start=start_date, end=end_date)['Close']\n",
      "[*********************100%***********************]  1 of 1 completed\n"
     ]
    }
   ],
   "source": [
    "stock_data = yf.download(ticker, start=start_date, end=end_date)['Close']\n",
    "\n"
   ]
  },
  {
   "cell_type": "code",
   "execution_count": 37,
   "id": "b5ea5854",
   "metadata": {
    "vscode": {
     "languageId": "markdown"
    }
   },
   "outputs": [
    {
     "name": "stderr",
     "output_type": "stream",
     "text": [
      "C:\\Users\\vikas\\AppData\\Local\\Temp\\ipykernel_18884\\3407926188.py:1: FutureWarning: YF.download() has changed argument auto_adjust default to True\n",
      "  stock_data = yf.download(ticker, start=start_date, end=end_date)[['Close']]\n",
      "[*********************100%***********************]  1 of 1 completed\n"
     ]
    }
   ],
   "source": [
    "stock_data = yf.download(ticker, start=start_date, end=end_date)[['Close']]\n",
    "\n",
    "stock_data['Daily Change (%)'] = (stock_data['Close'].pct_change() * 100).round(4)"
   ]
  },
  {
   "cell_type": "code",
   "execution_count": 38,
   "id": "1cf66919",
   "metadata": {},
   "outputs": [
    {
     "name": "stdout",
     "output_type": "stream",
     "text": [
      "Price            Close Daily Change (%)\n",
      "Ticker            AAPL                 \n",
      "Date                                   \n",
      "2023-01-03  123.330635              NaN\n",
      "2023-01-04  124.602707           1.0314\n",
      "2023-01-05  123.281334          -1.0605\n",
      "2023-01-06  127.817368           3.6794\n",
      "2023-01-09  128.339996           0.4089\n",
      "...                ...              ...\n",
      "2023-12-22  191.974670          -0.5547\n",
      "2023-12-26  191.429291          -0.2841\n",
      "2023-12-27  191.528458           0.0518\n",
      "2023-12-28  191.954865           0.2226\n",
      "2023-12-29  190.913666          -0.5424\n",
      "\n",
      "[250 rows x 2 columns]\n"
     ]
    }
   ],
   "source": [
    "print(stock_data)"
   ]
  },
  {
   "cell_type": "code",
   "execution_count": 39,
   "id": "db538467",
   "metadata": {},
   "outputs": [
    {
     "name": "stdout",
     "output_type": "stream",
     "text": [
      "count    249.000000\n",
      "mean       0.183494\n",
      "std        1.257001\n",
      "min       -4.802000\n",
      "25%       -0.589100\n",
      "50%        0.187900\n",
      "75%        0.884600\n",
      "max        4.692700\n",
      "Name: Daily Change (%), dtype: float64\n"
     ]
    }
   ],
   "source": [
    "stats = stock_data['Daily Change (%)'].describe()\n",
    "print(stats)"
   ]
  },
  {
   "cell_type": "code",
   "execution_count": null,
   "id": "17828538",
   "metadata": {
    "vscode": {
     "languageId": "r"
    }
   },
   "outputs": [],
   "source": [
    "\n",
    "\n",
    "stock_data['Close'].plot(kind='hist', bins=30, edgecolor='black', alpha=0.7)\n",
    "plt.title(f'Histogram of {ticker} Closing Prices ({start_date} to {end_date})')\n",
    "plt.xlabel('Close Price')\n",
    "plt.ylabel('Frequency')\n",
    "# plt.grid(True, linestyle='--', alpha=0.5)\n",
    "plt.show()"
   ]
  },
  {
   "cell_type": "code",
   "execution_count": null,
   "id": "160f2a59",
   "metadata": {},
   "outputs": [],
   "source": []
  }
 ],
 "metadata": {
  "kernelspec": {
   "display_name": "Python 3",
   "language": "python",
   "name": "python3"
  },
  "language_info": {
   "codemirror_mode": {
    "name": "ipython",
    "version": 3
   },
   "file_extension": ".py",
   "mimetype": "text/x-python",
   "name": "python",
   "nbconvert_exporter": "python",
   "pygments_lexer": "ipython3",
   "version": "3.13.7"
  }
 },
 "nbformat": 4,
 "nbformat_minor": 5
}
